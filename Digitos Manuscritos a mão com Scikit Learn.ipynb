{
 "cells": [
  {
   "cell_type": "markdown",
   "metadata": {},
   "source": [
    "## Introdução\n",
    "\n",
    "Este material é uma tradução do Tutorial preparado por Colin Bernet que pode ser acessado [aqui ](https://thedatafrog.com/handwritten-digit-recognition-scikit-learn/)"
   ]
  },
  {
   "cell_type": "markdown",
   "metadata": {},
   "source": [
    "## Sobre este tutorial\n",
    "\n",
    "Este tutorial é uma introdução prática ao aprendizado de máquina para iniciantes.\n",
    "\n",
    "A introdução ao aprendizado de máquina pode ser bastante difícil quando você procura aleatoriamente informações na web.\n",
    "\n",
    "Aqui, meu objetivo é ajudá-lo com um exemplo concreto de reconhecimento de imagem, com apenas um pouco de código e sem matemática.\n",
    "\n",
    "Após uma breve introdução ao aprendizado de máquina, você aprenderá:\n",
    "\n",
    "* os princípios do aprendizado de máquina supervisionado para classificação,\n",
    "* como instalar todo o pacote científico do python,\n",
    "* como acessar e validar os dados de treinamento para sua rede,\n",
    "* como criar e treinar sua rede\n",
    "* como usar o treinado e testar seu desempenho.\n",
    "\n",
    "#### Pré-requisitos\n",
    "\n",
    "Trabalharemos em python, que é uma escolha maravilhosa para a ciência de dados. Se você não é um desenvolvedor python, mas conhece um pouco de C, C ++ ou Java, por exemplo, ficará bem. Essa será uma excelente ocasião para descobrir python. E, quem sabe, você também pode se apaixonar por essa linguagem!"
   ]
  },
  {
   "cell_type": "markdown",
   "metadata": {},
   "source": [
    "## Por que aprendizado de máquina?\n",
    "\n",
    "O aprendizado de máquina é um campo de inteligência artificial no qual um sistema é projetado para aprender automaticamente, considerando um conjunto de dados de entrada. Após o aprendizado do sistema (dizemos que o sistema foi treinado), podemos usá-lo para fazer previsões de novos dados, antes nunca vistos.\n",
    "\n",
    "Essa abordagem torna possível solucionar problemas complexos difíceis ou impossíveis de resolver com a programação seqüencial tradicional.\n",
    "\n",
    "Exemplos de aplicativos de aprendizado de máquina incluem:\n",
    "\n",
    "* carros autônomos: dados os dados de sensores como câmeras e radares, o carro é treinado para dirigir por conta própria.\n",
    "\n",
    "[O site do google ainda precisa aprender sobre a faixa da direita] (https://www.youtube.com/watch?v=TsaES--OTzM) ;-)\n",
    "* drones: o piloto do drone só precisa dar instruções simples (para cima, baixo, esquerda, direita ou apenas coordenadas 3D), e o drone executa automaticamente ajustes complexos para manter a estabilidade ou para voar em formação (https: // www.youtube.com/watch?v=VnTQTm7vNbY)\n",
    "* [robôs](https://www.youtube.com/watch?v=LikxFZZO2sk)\n",
    "* previsão do preço do imóvel a partir de um conjunto de variáveis ​​como localização, número de quartos e até o texto do anúncio imobiliário. Certamente farei um tutorial sobre isso em um futuro próximo.\n",
    "* anúncios do Google que prevêem a probabilidade de você estar interessado em um determinado anúncio para enviar os mais promissores\n",
    "* sistemas de recomendação colaborativa que oferecem os vídeos do youtube ou os produtos da amazon que você vai gostar\n",
    "* identificação de defeitos nas cadeias de produção\n",
    "* identificação de grupos de pessoas afins nas redes sociais e dos influenciadores mais importantes dentro desses grupos\n",
    "* marcar fotos (basta digitar gato ou comida na caixa de pesquisa da sua biblioteca de fotos do Google, se você tiver uma)\n",
    "* sistemas de tradução como o [google translate](https://translate.google.fr/?hl=en)\n",
    "\n",
    "* filtragem de spam e-mail\n",
    "* gerar pinturas automaticamente:[sonho profundo](https://deepdreamgenerator.com/#gallery), [doodle neural](https://github.com/alexjc/neural-doodle)\n",
    "* ...\n"
   ]
  },
  {
   "cell_type": "markdown",
   "metadata": {},
   "source": [
    "## Aprendizado de máquina para classificação\n",
    "\n",
    "Vamos entender como uma rede neural pode ser treinada para classificação.\n",
    "\n",
    "Neste post, nosso objetivo é começar o aprendizado de máquina de maneira rápida e fácil, por isso, só vou lhe dar uma explicação simplificada por enquanto. Haverá um post mais detalhado sobre os princípios de treinamento posteriormente, portanto, fique atento se estiver interessado.\n",
    "\n",
    "! [Aprendizado supervisionado] (https://github.com/cbernet/maldives/raw/master/handwritten_digits_sklearn/supervised_learning.png)\n",
    "\n",
    "A rede é apresentada com uma sucessão de exemplos de treinamento. Cada exemplo de treinamento consiste em:\n",
    "\n",
    "* a imagem de um dígito\n",
    "* um rótulo que indica qual dígito a imagem realmente representa. Para uma determinada imagem, o rótulo poderia ser informado pela pessoa que escreveu o dígito em primeiro lugar.\n",
    "\n",
    "No desenho acima, a primeira imagem é processada pela rede neural, que produz uma resposta: este é um 9.\n",
    "\n",
    "A princípio, as conexões entre os neurônios da rede são aleatórias e a rede não pode fazer nada de útil. Apenas fornece uma resposta aleatória.\n",
    "\n",
    "A resposta é comparada ao rótulo. Nesse caso, a resposta (9) é diferente da etiqueta (o dígito é na verdade um 3), e algum feedback é dado à rede neural para que ela possa melhorar. As conexões entre os neurônios são modificadas, favorecendo as que tendem a dar uma resposta correta.\n",
    "\n",
    "Após a modificação, os próximos exemplos são considerados e a rede neural aprende em um processo iterativo.\n",
    "\n",
    "O número de exemplos de treinamento necessários para treinar a rede corretamente pode ser da ordem de algumas centenas para redes com uma arquitetura simples e milhões para redes complexas.\n",
    "\n",
    "## Instalando python e sua biblioteca científica\n",
    "\n",
    "** Se você já está executando este tutorial em seu notebook jupyter, pule esta seção. **\n",
    "\n",
    "Usaremos uma variedade de ferramentas da [scipy](https://www.scipy.org/), a biblioteca científica python:\n",
    "\n",
    "* [scikit-learn](https://scikit-learn.org/): um dos principais kits de ferramentas de aprendizado de máquina para python. Ele fornecerá um acesso fácil ao conjunto de dados de dígitos manuscritos e nos permitirá definir e treinar nossa rede neural em algumas linhas de código\n",
    "* [numpy](http://www.numpy.org/): pacote principal que fornece ferramentas poderosas para manipular matrizes de dados, como nossas imagens de dígitos\n",
    "* [matplotlib](https://matplotlib.org/): ferramentas de visualização, essenciais para verificar o que estamos fazendo\n",
    "* [jupyter](https://jupyter.org/): o servidor da web que permitirá que você siga este tutorial e execute o código diretamente no seu navegador.\n",
    "\n",
    "O Scipy, na verdade, não é uma biblioteca única, mas um \"ecossistema\" de pacotes python interdependentes.\n",
    "\n",
    "Esse ecossistema está cheio de cobras e bestas que lutam pela sobrevivência - você não quer ficar lá sozinho.\n",
    "\n",
    "E, de fato, seis anos atrás, quando eu comecei com o scipy, tentei instalar manualmente todos os pacotes necessários na parte superior da versão do python já instalada no meu sistema.\n",
    "\n",
    "Passei quase um dia lutando contra dependências conflitantes para esses pacotes. Por exemplo, o scikit-learn pode precisar da versão numpy A, mas o pandas precisa da versão B numpy. Ou um desses pacotes requer uma versão do python mais recente que a sua, o que significa que você precisa instalar uma versão adicional do python e lide com suas duas versões mais tarde.\n",
    "\n",
    "E então, eu descobri o [Anaconda] (https://anaconda.org/).\n",
    "\n",
    "Conforme declarado no site da Anaconda:\n",
    "\n",
    "* Com mais de 6 milhões de usuários, o Anaconda Distribution de código aberto é a maneira mais rápida e fácil de fazer ciência de dados em Python e R e aprendizado de máquina no Linux, Windows e Mac OS X. É o padrão do setor para desenvolvimento, teste e treinamento em uma única máquina. *\n",
    "\n",
    "Em poucas palavras, a equipe do anaconda mantém um repositório de mais de 1400 pacotes de ciência de dados, todos compatíveis, e fornece ferramentas para instalar uma versão do python e esses pacotes com o pressionar de um botão e menos de cinco minutos.\n",
    "\n",
    "Vamos fazer agora!\n",
    "\n",
    "Primeiro, [faça o download do anaconda] (https://www.anaconda.com/download/) para o seu sistema:\n",
    "\n",
    "* Escolha a versão python 2.X, não a versão 3.X.\n",
    "* Se você estiver usando o Windows ou Linux, escolha o instalador de 64 bits se tiver um sistema de 64 bits.\n",
    "\n",
    "Execute o instalador e, finalmente, inicie o Anaconda Navigator. No Windows, você pode encontrá-lo clicando no botão Iniciar do Windows e digitando anaconda.\n",
    "\n",
    "Na janela Anaconda Navigator, clique na guia Início e inicie o notebook jupyter.\n",
    "\n",
    "Crie um novo notebook. No seu notebook, você verá uma célula vazia, onde é possível escrever código python. Copie e cole as seguintes linhas e execute a célula pressionando Shift + Enter.\n",
    "\n",
    "```python\n",
    "print 'hello world!'\n",
    "for i in range(10):\n",
    "    print i\n",
    "```\n",
    "\n",
    "Uma nova célula aparece. Importe numpy e matplotlib (lembre-se de que você precisa executar a célula):\n",
    "\n",
    "```python\n",
    "import matplotlib.pyplot as plt \n",
    "import numpy as np \n",
    "```\n",
    "\n",
    "Esta é uma maneira padrão de importar estes módulos:\n",
    "\n",
    "* o módulo pyplot do matplotlib é chamado plt neste contexto\n",
    "* o módulo numpy é chamado np\n",
    "\n",
    "Você pode muito bem escolher outros nomes, mas esses são usados por quase todo mundo, por isso é mais fácil usá-los também.\n",
    "\n",
    "Agora vamos tentar fazer nosso primeiro gráfico, apenas para garantir que numpy e matplotlib estejam funcionando:\n",
    "\n",
    "```python \n",
    "# create a numpy 1-D array with 16 evenly spaced values, from 0 to 3.\n",
    "x = np.linspace(0, 3, 16)\n",
    "print x \n",
    "# create a new numpy array. \n",
    "# x**2 means that each element of x is squared.\n",
    "y = x**2\n",
    "print y\n",
    "# plot y versus x, you should get a parabola. \n",
    "# check that for x = 1 we have y = 1, and that for x = 2, y = 4. \n",
    "plt.plot(x, y)\n",
    "```\n",
    "\n",
    "--- \n",
    "\n",
    "💡 **Uma palavra de cautela:**\n",
    "\n",
    "É muito fácil se perder na documentação de todas essas ferramentas e perder muito tempo.\n",
    "\n",
    "Por exemplo, se você verificar a documentação do método plt.plot (não fornecerei o link ;-) mas você pode pesquisá-lo no Google), verá que existem várias maneiras de chamá-lo, com muitos parâmetros opcionais . Mas, afinal, precisamos saber mais do que isso: `plt.plot (x, y)` plota y vs x?\n",
    "\n",
    "Se você quiser se divertir, sugiro seguir este tutorial até o final sem ir mais fundo.\n",
    "\n",
    "Você treinará sua primeira rede neural com facilidade e, no processo, terá uma compreensão das ferramentas mais importantes para aprender scikit, numpy e matplotlib. Isso é mais do que suficiente para uma variedade de tarefas de aprendizado de máquina, e você sempre pode aprender mais sobre os recursos específicos dessas ferramentas quando precisar delas mais tarde (você saberá!)\n",
    "\n",
    "Para ir além, aqui está uma excelente [palestra sobre scipy](https://scipy-lectures.org/).\n",
    "---"
   ]
  },
  {
   "cell_type": "markdown",
   "metadata": {},
   "source": [
    "Agora que você tem acesso ao notebook jupyter, tenho boas notícias. Você não precisará manter o código de copiar e colar desta página no seu notebook.\n",
    "\n",
    "Em vez disso, faça o seguinte:\n",
    "\n",
    "* [faça o download do repositório que contém este caderno](https://github.com/cbernet/maldives/archive/master.zip)\n",
    "* descompacte-o, diga `Downloads / maldives-master`\n",
    "* inicie um notebook jupyter a partir do navegador anaconda\n",
    "* no caderno, navegue até `Downloads / maldives-master / handwritten_digits_sklearn`\n",
    "* abra `handwritten_digits_sklean.ipynb`\n",
    "\n",
    "Você deve ver esta página aparecer no caderno. A partir de agora, siga o tutorial no caderno. Você deve executar as células como elas vêm, ou executá-las de uma só vez. Você pode até adicionar células ou modificar células existentes para experimentar um pouco."
   ]
  },
  {
   "cell_type": "markdown",
   "metadata": {},
   "source": [
    "## O conjunto de dados de dígitos\n",
    "\n",
    "O scikit-learn vem com vários conjuntos de dados de teste. Vamos carregar o conjunto de dados de dígitos manuscritos:"
   ]
  },
  {
   "cell_type": "code",
   "execution_count": 1,
   "metadata": {},
   "outputs": [],
   "source": [
    "from sklearn import datasets\n",
    "digits = datasets.load_digits()"
   ]
  },
  {
   "cell_type": "markdown",
   "metadata": {},
   "source": [
    "Em python, a função `dir` retorna os nomes dos atributos de um objeto, ou seja, quais informações são armazenadas no objeto na forma de outros objetos. Vamos usar esta função para verificar o que pode ser encontrado no objeto dígitos:"
   ]
  },
  {
   "cell_type": "code",
   "execution_count": 2,
   "metadata": {},
   "outputs": [
    {
     "data": {
      "text/plain": [
       "['DESCR', 'data', 'images', 'target', 'target_names']"
      ]
     },
     "execution_count": 2,
     "metadata": {},
     "output_type": "execute_result"
    }
   ],
   "source": [
    "dir(digits)"
   ]
  },
  {
   "cell_type": "markdown",
   "metadata": {},
   "source": [
    "Vamos dar uma olhada em mais detalhes em alguns desses atributos. Vamos começar verificando o tipo deles:"
   ]
  },
  {
   "cell_type": "code",
   "execution_count": 4,
   "metadata": {},
   "outputs": [
    {
     "name": "stdout",
     "output_type": "stream",
     "text": [
      "<class 'numpy.ndarray'>\n",
      "<class 'numpy.ndarray'>\n"
     ]
    }
   ],
   "source": [
    "print(type(digits.images))\n",
    "print(type(digits.target))"
   ]
  },
  {
   "cell_type": "markdown",
   "metadata": {},
   "source": [
    "`images` e` target` são ndarrays (matrizes N-dimensionais) do pacote numpy. O atributo shape de um ndarray fornece o número de dimensões e o tamanho ao longo de cada dimensão da matriz. Por exemplo:"
   ]
  },
  {
   "cell_type": "code",
   "execution_count": 5,
   "metadata": {},
   "outputs": [
    {
     "data": {
      "text/plain": [
       "(1797, 8, 8)"
      ]
     },
     "execution_count": 5,
     "metadata": {},
     "output_type": "execute_result"
    }
   ],
   "source": [
    "digits.images.shape"
   ]
  },
  {
   "cell_type": "markdown",
   "metadata": {},
   "source": [
    "digits.image é uma matriz com 3 dimensões. A primeira dimensão indexa imagens e vemos que temos 1797 imagens no total. As próximas duas dimensões correspondem às coordenadas xey dos pixels em cada imagem. Cada imagem tem 8x8 = 64 pixels. Em outras palavras, essa matriz pode ser representada em 3D como uma pilha de imagens com 8x8 pixels cada."
   ]
  },
  {
   "cell_type": "markdown",
   "metadata": {},
   "source": [
    "vejamos os dados da primeira imagem 8x8. Cada slot na matriz corresponde a um pixel, e o valor no slot é a quantidade de preto no pixel"
   ]
  },
  {
   "cell_type": "code",
   "execution_count": 7,
   "metadata": {},
   "outputs": [
    {
     "name": "stdout",
     "output_type": "stream",
     "text": [
      "[[ 0.  0.  5. 13.  9.  1.  0.  0.]\n",
      " [ 0.  0. 13. 15. 10. 15.  5.  0.]\n",
      " [ 0.  3. 15.  2.  0. 11.  8.  0.]\n",
      " [ 0.  4. 12.  0.  0.  8.  8.  0.]\n",
      " [ 0.  5.  8.  0.  0.  9.  8.  0.]\n",
      " [ 0.  4. 11.  0.  1. 12.  7.  0.]\n",
      " [ 0.  2. 14.  5. 10. 12.  0.  0.]\n",
      " [ 0.  0.  6. 13. 10.  0.  0.  0.]]\n"
     ]
    }
   ],
   "source": [
    "print(digits.images[0])"
   ]
  },
  {
   "cell_type": "markdown",
   "metadata": {},
   "source": [
    "Agora vamos exibir esta imagem: (às vezes, o gráfico não aparece, basta executar novamente esta célula se você não vir a imagem)"
   ]
  },
  {
   "cell_type": "code",
   "execution_count": 9,
   "metadata": {},
   "outputs": [
    {
     "data": {
      "image/png": "[encoded data removed]",
      "text/plain": [
       "<Figure size 432x288 with 1 Axes>"
      ]
     },
     "metadata": {
      "needs_background": "light"
     },
     "output_type": "display_data"
    }
   ],
   "source": [
    "import matplotlib.pyplot as plt\n",
    "plt.imshow(digits.images[0],cmap='binary')\n",
    "plt.show()"
   ]
  },
  {
   "cell_type": "markdown",
   "metadata": {},
   "source": [
    "A imagem é de baixa resolução. Os dígitos originais tinham uma resolução muito mais alta e a resolução foi diminuída ao criar o conjunto de dados para o scikit-learn para tornar mais fácil e rápido o treinamento de um algoritmo de aprendizado de máquina para reconhecer esses dígitos.\n",
    "\n",
    "Agora vamos investigar o atributo target:"
   ]
  },
  {
   "cell_type": "code",
   "execution_count": 10,
   "metadata": {
    "scrolled": false
   },
   "outputs": [
    {
     "name": "stdout",
     "output_type": "stream",
     "text": [
      "(1797,)\n",
      "[0 1 2 ... 8 9 8]\n"
     ]
    }
   ],
   "source": [
    "print(digits.target.shape)\n",
    "print(digits.target)"
   ]
  },
  {
   "cell_type": "markdown",
   "metadata": {},
   "source": [
    "É uma matriz unidimensional com 1797 slots. Observando a matriz, vemos que ela contém os números verdadeiros correspondentes a cada imagem. Por exemplo, o primeiro alvo é 0 e corresponde à imagem desenhada logo acima."
   ]
  },
  {
   "cell_type": "markdown",
   "metadata": {},
   "source": [
    "Vamos dar uma olhada em mais algumas imagens usando esta função:"
   ]
  },
  {
   "cell_type": "code",
   "execution_count": 11,
   "metadata": {},
   "outputs": [],
   "source": [
    "def plot_multi(i):\n",
    "    '''Plota 16 dígitos, começando com o dígito i'''\n",
    "    nplots = 16\n",
    "    fig = plt.figure(figsize=(15,15))\n",
    "    for j in range(nplots):\n",
    "        plt.subplot(4,4,j+1)\n",
    "        plt.imshow(digits.images[i+j], cmap='binary')\n",
    "        plt.title(digits.target[i+j])\n",
    "        plt.axis('off')\n",
    "    plt.show()"
   ]
  },
  {
   "cell_type": "code",
   "execution_count": 12,
   "metadata": {
    "scrolled": true
   },
   "outputs": [
    {
     "data": {
      "image/png": "[encoded data removed]",
      "text/plain": [
       "<Figure size 1080x1080 with 16 Axes>"
      ]
     },
     "metadata": {
      "needs_background": "light"
     },
     "output_type": "display_data"
    }
   ],
   "source": [
    "plot_multi(0)"
   ]
  },
  {
   "cell_type": "markdown",
   "metadata": {},
   "source": [
    "você pode dar uma olhada nos próximos dígitos chamando plot_multi (16), plot_multi (32) etc. Você provavelmente verá que, com uma resolução tão baixa, é muito difícil reconhecer alguns dos dígitos, mesmo para humanos. Nessas condições, nossa rede neural também será limitada pela baixa qualidade das imagens de entrada. A rede neural pode ter um desempenho tão bom quanto o humano? Já seria uma conquista!"
   ]
  },
  {
   "cell_type": "markdown",
   "metadata": {},
   "source": [
    "## Construindo a rede e preparando os dados de entrada"
   ]
  },
  {
   "cell_type": "markdown",
   "metadata": {},
   "source": [
    "Com o [scikit-learn](https://scikit-learn.org), a criação, o treinamento e a avaliação de uma rede neural podem ser feitos com apenas algumas linhas de código.\n",
    "\n",
    "Faremos uma rede neural muito simples, com três camadas:\n",
    "\n",
    "* uma camada de entrada, com 64 nós, um nó por pixel nas imagens de entrada. Nós são neurônios que realmente não fazem nada. Eles apenas pegam seu valor de entrada e o enviam para os neurônios da próxima camada\n",
    "* uma camada oculta com 15 neurônios. Poderíamos escolher um número diferente e também adicionar mais camadas ocultas com diferentes números de neurônios\n",
    "* uma camada de saída com 10 neurônios correspondentes às nossas 10 classes de dígitos, de 0 a 9.\n",
    "\n",
    "Essa é uma rede neural * densa *, o que significa que cada nó em cada camada está conectado a todos os nós nas camadas anterior e seguinte.\n"
   ]
  },
  {
   "cell_type": "markdown",
   "metadata": {},
   "source": [
    "![Simple dense network](https://github.com/cbernet/maldives/raw/master/handwritten_digits_sklearn/simple_dense.png)"
   ]
  },
  {
   "cell_type": "markdown",
   "metadata": {},
   "source": [
    "A camada de entrada requer uma matriz unidimensional na entrada, mas nossas imagens são 2D. Então, precisamos achatar todas as imagens:"
   ]
  },
  {
   "cell_type": "code",
   "execution_count": 13,
   "metadata": {},
   "outputs": [
    {
     "data": {
      "text/plain": [
       "(1797, 64)"
      ]
     },
     "execution_count": 13,
     "metadata": {},
     "output_type": "execute_result"
    }
   ],
   "source": [
    "y = digits.target\n",
    "x = digits.images.reshape((len(digits.images), -1))\n",
    "x.shape"
   ]
  },
  {
   "cell_type": "markdown",
   "metadata": {},
   "source": [
    "Agora temos 1797 imagens achatadas. As duas dimensões de nossas imagens 8x8 foram recolhidas em uma única dimensão, escrevendo as linhas de 8 pixels conforme elas aparecem, uma após a outra. A primeira imagem que vimos anteriormente agora é representada por uma matriz 1-D com 8x8 = 64 slots. Verifique se os valores abaixo são os mesmos da imagem 2-D original."
   ]
  },
  {
   "cell_type": "code",
   "execution_count": 14,
   "metadata": {
    "scrolled": true
   },
   "outputs": [
    {
     "data": {
      "text/plain": [
       "array([ 0.,  0.,  5., 13.,  9.,  1.,  0.,  0.,  0.,  0., 13., 15., 10.,\n",
       "       15.,  5.,  0.,  0.,  3., 15.,  2.,  0., 11.,  8.,  0.,  0.,  4.,\n",
       "       12.,  0.,  0.,  8.,  8.,  0.,  0.,  5.,  8.,  0.,  0.,  9.,  8.,\n",
       "        0.,  0.,  4., 11.,  0.,  1., 12.,  7.,  0.,  0.,  2., 14.,  5.,\n",
       "       10., 12.,  0.,  0.,  0.,  0.,  6., 13., 10.,  0.,  0.,  0.])"
      ]
     },
     "execution_count": 14,
     "metadata": {},
     "output_type": "execute_result"
    }
   ],
   "source": [
    "x[0]"
   ]
  },
  {
   "cell_type": "markdown",
   "metadata": {},
   "source": [
    "agora vamos dividir nossos dados em uma amostra de treinamento e uma amostra de teste:"
   ]
  },
  {
   "cell_type": "code",
   "execution_count": 15,
   "metadata": {},
   "outputs": [],
   "source": [
    "x_train = x[:1000]\n",
    "y_train = y[:1000]\n",
    "x_test = x[1000:]\n",
    "y_test = y[1000:]"
   ]
  },
  {
   "cell_type": "markdown",
   "metadata": {},
   "source": [
    "As primeiras 1000 imagens e rótulos serão usadas para treinamento. O restante do conjunto de dados será usado posteriormente para testar o desempenho da nossa rede."
   ]
  },
  {
   "cell_type": "markdown",
   "metadata": {},
   "source": [
    "Agora podemos criar a rede neural. Usamos uma camada oculta com 15 neurônios, e o scikit-learn é inteligente o suficiente para descobrir quantos números usar nas camadas de entrada e saída. Não preste atenção nos outros parâmetros, abordaremos isso em postagens futuras."
   ]
  },
  {
   "cell_type": "code",
   "execution_count": 16,
   "metadata": {},
   "outputs": [],
   "source": [
    "from sklearn.neural_network import MLPClassifier\n",
    "\n",
    "mlp = MLPClassifier(hidden_layer_sizes=(15,), activation='logistic', alpha=1e-4,\n",
    "                    solver='sgd', tol=1e-4, random_state=1,\n",
    "                    learning_rate_init=.1, verbose=True)\n"
   ]
  },
  {
   "cell_type": "markdown",
   "metadata": {},
   "source": [
    "Finalmente, podemos treinar a rede neural:"
   ]
  },
  {
   "cell_type": "code",
   "execution_count": 17,
   "metadata": {},
   "outputs": [
    {
     "name": "stdout",
     "output_type": "stream",
     "text": [
      "Iteration 1, loss = 2.22958289\n",
      "Iteration 2, loss = 1.91207743\n",
      "Iteration 3, loss = 1.62507727\n",
      "Iteration 4, loss = 1.32649842\n",
      "Iteration 5, loss = 1.06100535\n",
      "Iteration 6, loss = 0.83995513\n",
      "Iteration 7, loss = 0.67806075\n",
      "Iteration 8, loss = 0.55175832\n",
      "Iteration 9, loss = 0.45840445\n",
      "Iteration 10, loss = 0.39149735\n",
      "Iteration 11, loss = 0.33676351\n",
      "Iteration 12, loss = 0.29059880\n",
      "Iteration 13, loss = 0.25437208\n",
      "Iteration 14, loss = 0.22838372\n",
      "Iteration 15, loss = 0.20200554\n",
      "Iteration 16, loss = 0.18186565\n",
      "Iteration 17, loss = 0.16461183\n",
      "Iteration 18, loss = 0.14990228\n",
      "Iteration 19, loss = 0.13892154\n",
      "Iteration 20, loss = 0.12833784\n",
      "Iteration 21, loss = 0.12138920\n",
      "Iteration 22, loss = 0.11407971\n",
      "Iteration 23, loss = 0.10677664\n",
      "Iteration 24, loss = 0.10037149\n",
      "Iteration 25, loss = 0.09593187\n",
      "Iteration 26, loss = 0.09250135\n",
      "Iteration 27, loss = 0.08676698\n",
      "Iteration 28, loss = 0.08356043\n",
      "Iteration 29, loss = 0.08209789\n",
      "Iteration 30, loss = 0.07649168\n",
      "Iteration 31, loss = 0.07410898\n",
      "Iteration 32, loss = 0.07126869\n",
      "Iteration 33, loss = 0.06926956\n",
      "Iteration 34, loss = 0.06578496\n",
      "Iteration 35, loss = 0.06374913\n",
      "Iteration 36, loss = 0.06175492\n",
      "Iteration 37, loss = 0.05975664\n",
      "Iteration 38, loss = 0.05764485\n",
      "Iteration 39, loss = 0.05623663\n",
      "Iteration 40, loss = 0.05420966\n",
      "Iteration 41, loss = 0.05413911\n",
      "Iteration 42, loss = 0.05256140\n",
      "Iteration 43, loss = 0.05020265\n",
      "Iteration 44, loss = 0.04902779\n",
      "Iteration 45, loss = 0.04788382\n",
      "Iteration 46, loss = 0.04655532\n",
      "Iteration 47, loss = 0.04586089\n",
      "Iteration 48, loss = 0.04451758\n",
      "Iteration 49, loss = 0.04341598\n",
      "Iteration 50, loss = 0.04238096\n",
      "Iteration 51, loss = 0.04162200\n",
      "Iteration 52, loss = 0.04076839\n",
      "Iteration 53, loss = 0.04003180\n",
      "Iteration 54, loss = 0.03907774\n",
      "Iteration 55, loss = 0.03815565\n",
      "Iteration 56, loss = 0.03791975\n",
      "Iteration 57, loss = 0.03706276\n",
      "Iteration 58, loss = 0.03617874\n",
      "Iteration 59, loss = 0.03593227\n",
      "Iteration 60, loss = 0.03504175\n",
      "Iteration 61, loss = 0.03441259\n",
      "Iteration 62, loss = 0.03397449\n",
      "Iteration 63, loss = 0.03326990\n",
      "Iteration 64, loss = 0.03305025\n",
      "Iteration 65, loss = 0.03244893\n",
      "Iteration 66, loss = 0.03191504\n",
      "Iteration 67, loss = 0.03132169\n",
      "Iteration 68, loss = 0.03079707\n",
      "Iteration 69, loss = 0.03044946\n",
      "Iteration 70, loss = 0.03005546\n",
      "Iteration 71, loss = 0.02960555\n",
      "Iteration 72, loss = 0.02912799\n",
      "Iteration 73, loss = 0.02859103\n",
      "Iteration 74, loss = 0.02825959\n",
      "Iteration 75, loss = 0.02788968\n",
      "Iteration 76, loss = 0.02748725\n",
      "Iteration 77, loss = 0.02721247\n",
      "Iteration 78, loss = 0.02686225\n",
      "Iteration 79, loss = 0.02635636\n",
      "Iteration 80, loss = 0.02607439\n",
      "Iteration 81, loss = 0.02577613\n",
      "Iteration 82, loss = 0.02553642\n",
      "Iteration 83, loss = 0.02518749\n",
      "Iteration 84, loss = 0.02484300\n",
      "Iteration 85, loss = 0.02455379\n",
      "Iteration 86, loss = 0.02432480\n",
      "Iteration 87, loss = 0.02398548\n",
      "Iteration 88, loss = 0.02376004\n",
      "Iteration 89, loss = 0.02341261\n",
      "Iteration 90, loss = 0.02318255\n",
      "Iteration 91, loss = 0.02296065\n",
      "Iteration 92, loss = 0.02274048\n",
      "Iteration 93, loss = 0.02241054\n",
      "Iteration 94, loss = 0.02208181\n",
      "Iteration 95, loss = 0.02190861\n",
      "Iteration 96, loss = 0.02174404\n",
      "Iteration 97, loss = 0.02156939\n",
      "Iteration 98, loss = 0.02119768\n",
      "Iteration 99, loss = 0.02101874\n",
      "Iteration 100, loss = 0.02078230\n",
      "Iteration 101, loss = 0.02061573\n",
      "Iteration 102, loss = 0.02039802\n",
      "Iteration 103, loss = 0.02017245\n",
      "Iteration 104, loss = 0.01997162\n",
      "Iteration 105, loss = 0.01989280\n",
      "Iteration 106, loss = 0.01963828\n",
      "Iteration 107, loss = 0.01941850\n",
      "Iteration 108, loss = 0.01933154\n",
      "Iteration 109, loss = 0.01911473\n",
      "Iteration 110, loss = 0.01905371\n",
      "Iteration 111, loss = 0.01876085\n",
      "Iteration 112, loss = 0.01860656\n",
      "Iteration 113, loss = 0.01848655\n",
      "Iteration 114, loss = 0.01834844\n",
      "Iteration 115, loss = 0.01818981\n",
      "Iteration 116, loss = 0.01798523\n",
      "Iteration 117, loss = 0.01783630\n",
      "Iteration 118, loss = 0.01771441\n",
      "Iteration 119, loss = 0.01749814\n",
      "Iteration 120, loss = 0.01738339\n",
      "Iteration 121, loss = 0.01726549\n",
      "Iteration 122, loss = 0.01709638\n",
      "Iteration 123, loss = 0.01698340\n",
      "Iteration 124, loss = 0.01684606\n",
      "Iteration 125, loss = 0.01667016\n",
      "Iteration 126, loss = 0.01654172\n",
      "Iteration 127, loss = 0.01641832\n",
      "Iteration 128, loss = 0.01630111\n",
      "Iteration 129, loss = 0.01623051\n",
      "Iteration 130, loss = 0.01612736\n",
      "Iteration 131, loss = 0.01590220\n",
      "Iteration 132, loss = 0.01582485\n",
      "Iteration 133, loss = 0.01571372\n",
      "Iteration 134, loss = 0.01560349\n",
      "Iteration 135, loss = 0.01557688\n",
      "Iteration 136, loss = 0.01534420\n",
      "Iteration 137, loss = 0.01527883\n",
      "Iteration 138, loss = 0.01517545\n",
      "Iteration 139, loss = 0.01503663\n",
      "Iteration 140, loss = 0.01501192\n",
      "Iteration 141, loss = 0.01482535\n",
      "Iteration 142, loss = 0.01471388\n",
      "Iteration 143, loss = 0.01463948\n",
      "Iteration 144, loss = 0.01454059\n",
      "Iteration 145, loss = 0.01441742\n",
      "Iteration 146, loss = 0.01431741\n",
      "Iteration 147, loss = 0.01428414\n",
      "Iteration 148, loss = 0.01416364\n",
      "Iteration 149, loss = 0.01406742\n",
      "Iteration 150, loss = 0.01402651\n",
      "Iteration 151, loss = 0.01389720\n",
      "Iteration 152, loss = 0.01381412\n",
      "Iteration 153, loss = 0.01371300\n",
      "Iteration 154, loss = 0.01362465\n",
      "Iteration 155, loss = 0.01357048\n",
      "Iteration 156, loss = 0.01348760\n",
      "Iteration 157, loss = 0.01339543\n",
      "Iteration 158, loss = 0.01331941\n",
      "Iteration 159, loss = 0.01320812\n",
      "Iteration 160, loss = 0.01315415\n",
      "Iteration 161, loss = 0.01308279\n",
      "Iteration 162, loss = 0.01302708\n",
      "Iteration 163, loss = 0.01290042\n",
      "Iteration 164, loss = 0.01289267\n",
      "Iteration 165, loss = 0.01277558\n",
      "Iteration 166, loss = 0.01277238\n",
      "Iteration 167, loss = 0.01261308\n",
      "Iteration 168, loss = 0.01260611\n",
      "Iteration 169, loss = 0.01248789\n",
      "Iteration 170, loss = 0.01239662\n",
      "Iteration 171, loss = 0.01231743\n",
      "Iteration 172, loss = 0.01227346\n",
      "Iteration 173, loss = 0.01223136\n",
      "Iteration 174, loss = 0.01217211\n",
      "Iteration 175, loss = 0.01208682\n",
      "Iteration 176, loss = 0.01204707\n",
      "Iteration 177, loss = 0.01200225\n",
      "Iteration 178, loss = 0.01188677\n",
      "Iteration 179, loss = 0.01184993\n",
      "Iteration 180, loss = 0.01175130\n",
      "Iteration 181, loss = 0.01171178\n",
      "Iteration 182, loss = 0.01166052\n",
      "Iteration 183, loss = 0.01163843\n",
      "Iteration 184, loss = 0.01154892\n",
      "Iteration 185, loss = 0.01147629\n",
      "Iteration 186, loss = 0.01142365\n",
      "Iteration 187, loss = 0.01136608\n",
      "Iteration 188, loss = 0.01128053\n",
      "Iteration 189, loss = 0.01128869\n",
      "Training loss did not improve more than tol=0.000100 for 10 consecutive epochs. Stopping.\n"
     ]
    },
    {
     "data": {
      "text/plain": [
       "MLPClassifier(activation='logistic', alpha=0.0001, batch_size='auto',\n",
       "       beta_1=0.9, beta_2=0.999, early_stopping=False, epsilon=1e-08,\n",
       "       hidden_layer_sizes=(15,), learning_rate='constant',\n",
       "       learning_rate_init=0.1, max_iter=200, momentum=0.9,\n",
       "       n_iter_no_change=10, nesterovs_momentum=True, power_t=0.5,\n",
       "       random_state=1, shuffle=True, solver='sgd', tol=0.0001,\n",
       "       validation_fraction=0.1, verbose=True, warm_start=False)"
      ]
     },
     "execution_count": 17,
     "metadata": {},
     "output_type": "execute_result"
    }
   ],
   "source": [
    "mlp.fit(x_train,y_train)"
   ]
  },
  {
   "cell_type": "markdown",
   "metadata": {},
   "source": [
    "O treinamento foi extremamente rápido, porque a rede neural é simples e o conjunto de dados de entrada é pequeno. Agora que a rede foi treinada, vejamos o que pode dizer sobre nossas imagens de teste:"
   ]
  },
  {
   "cell_type": "code",
   "execution_count": 18,
   "metadata": {},
   "outputs": [
    {
     "data": {
      "text/plain": [
       "array([1, 4, 0, 5, 3, 6, 9, 6, 1, 7, 5, 4, 4, 7, 2, 8, 2, 2, 5, 7, 9, 5,\n",
       "       4, 4, 9, 0, 8, 9, 8, 0, 1, 2, 3, 4, 5, 6, 7, 8, 3, 0, 1, 2, 3, 4,\n",
       "       5, 6, 7, 8, 5, 0])"
      ]
     },
     "execution_count": 18,
     "metadata": {},
     "output_type": "execute_result"
    }
   ],
   "source": [
    "predictions = mlp.predict(x_test)\n",
    "predictions[:50] \n",
    "# apenas examinamos os 50 primeiros exemplos na amostra de teste"
   ]
  },
  {
   "cell_type": "markdown",
   "metadata": {},
   "source": [
    "Essas previsões devem estar bastante próximas das metas de nossa amostra de treinamento. Vamos verificar a olho nu (compare os valores dessas matrizes)"
   ]
  },
  {
   "cell_type": "code",
   "execution_count": 19,
   "metadata": {},
   "outputs": [
    {
     "data": {
      "text/plain": [
       "array([1, 4, 0, 5, 3, 6, 9, 6, 1, 7, 5, 4, 4, 7, 2, 8, 2, 2, 5, 7, 9, 5,\n",
       "       4, 4, 9, 0, 8, 9, 8, 0, 1, 2, 3, 4, 5, 6, 7, 8, 9, 0, 1, 2, 3, 4,\n",
       "       5, 6, 7, 8, 9, 0])"
      ]
     },
     "execution_count": 19,
     "metadata": {},
     "output_type": "execute_result"
    }
   ],
   "source": [
    "y_test[:50] \n",
    "# etiquetas verdadeiras para os primeiros 50 exemplos na amostra de teste"
   ]
  },
  {
   "cell_type": "markdown",
   "metadata": {},
   "source": [
    "Não é ruim! vemos que a maioria das previsões (se não todas) corresponde aos rótulos verdadeiros."
   ]
  },
  {
   "cell_type": "markdown",
   "metadata": {},
   "source": [
    "Mas podemos ser um pouco mais quantitativos? Podemos calcular a precisão do classificador, qual a probabilidade de um dígito ser classificado na categoria correta. Novamente, o scikit-learn vem com uma ferramenta útil para fazer isso:"
   ]
  },
  {
   "cell_type": "code",
   "execution_count": 20,
   "metadata": {
    "scrolled": true
   },
   "outputs": [
    {
     "data": {
      "text/plain": [
       "0.9146800501882058"
      ]
     },
     "execution_count": 20,
     "metadata": {},
     "output_type": "execute_result"
    }
   ],
   "source": [
    "from sklearn.metrics import accuracy_score\n",
    "accuracy_score(y_test, predictions)"
   ]
  },
  {
   "cell_type": "markdown",
   "metadata": {},
   "source": [
    "Esse número é a probabilidade de os dígitos na amostra de teste serem classificados na categoria correta, o que significa que 91,6% dos dígitos estão corretos e 8,4% incorretos.\n",
    "\n",
    "**Conseguimos obter uma precisão de 91,6% com esta rede neural muito simples. Não é tão ruim!**\n",
    "\n",
    "No entanto, esta é apenas uma primeira tentativa.\n",
    "\n",
    "Na verdade, devo confessar que optei por usar uma rede simplista para manter o desempenho baixo, para que possamos otimizá-lo mais tarde."
   ]
  },
  {
   "cell_type": "markdown",
   "metadata": {},
   "source": [
    "## Conclusão e perspectivas"
   ]
  },
  {
   "cell_type": "markdown",
   "metadata": {},
   "source": [
    "Neste tutorial prático, você aprendeu:\n",
    "\n",
    "* Os princípios do aprendizado de máquina supervisionado para classificação,\n",
    "* Como instalar e usar o pacote python científico para aprendizado de máquina,\n",
    "* Como investigar sobre seu conjunto de dados de entrada,\n",
    "* Como treinar uma rede neural para reconhecimento de imagens, atingindo uma precisão maior que 90% na classificação de dígitos.\n",
    "\n",
    "É só o começo! Em posts futuros, iremos:\n",
    "\n",
    "* veja se podemos otimizar nossa rede para aumentar ainda mais a precisão,\n",
    "* use aprendizado profundo (redes muito mais complexas) para alcançar precisão extrema,\n",
    "* mergulhe um pouco mais no mecanismo do treinamento para entender por que criamos a rede neural com esses parâmetros."
   ]
  },
  {
   "cell_type": "code",
   "execution_count": null,
   "metadata": {},
   "outputs": [],
   "source": []
  }
 ],
 "metadata": {
  "kernelspec": {
   "display_name": "Python 3",
   "language": "python",
   "name": "python3"
  },
  "language_info": {
   "codemirror_mode": {
    "name": "ipython",
    "version": 3
   },
   "file_extension": ".py",
   "mimetype": "text/x-python",
   "name": "python",
   "nbconvert_exporter": "python",
   "pygments_lexer": "ipython3",
   "version": "3.6.8"
  }
 },
 "nbformat": 4,
 "nbformat_minor": 2
}
